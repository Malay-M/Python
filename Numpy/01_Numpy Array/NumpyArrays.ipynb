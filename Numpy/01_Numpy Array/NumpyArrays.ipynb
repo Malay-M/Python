{
 "cells": [
  {
   "cell_type": "code",
   "execution_count": 8,
   "id": "9caff5b4-6bf0-4a87-852c-9c8fab4d8aad",
   "metadata": {},
   "outputs": [],
   "source": [
    "import numpy as np\n",
    "import time\n",
    "import sys"
   ]
  },
  {
   "cell_type": "code",
   "execution_count": 2,
   "id": "cf4505f1-1652-4481-a4a6-52df89cb07d7",
   "metadata": {},
   "outputs": [
    {
     "data": {
      "text/plain": [
       "array([1, 2, 3, 4, 5])"
      ]
     },
     "execution_count": 2,
     "metadata": {},
     "output_type": "execute_result"
    }
   ],
   "source": [
    "a = np.array([1, 2, 3, 4, 5])\n",
    "a"
   ]
  },
  {
   "cell_type": "code",
   "execution_count": 5,
   "id": "f0af64f9-0497-4c94-9e63-f782e0522fff",
   "metadata": {},
   "outputs": [
    {
     "data": {
      "text/plain": [
       "5"
      ]
     },
     "execution_count": 5,
     "metadata": {},
     "output_type": "execute_result"
    }
   ],
   "source": [
    "a[4]"
   ]
  },
  {
   "cell_type": "code",
   "execution_count": 17,
   "id": "6ea2bb84-950f-41e0-8d93-2bb9c45a297e",
   "metadata": {},
   "outputs": [
    {
     "name": "stdout",
     "output_type": "stream",
     "text": [
      "28000\n"
     ]
    }
   ],
   "source": [
    "#Size of list\n",
    "l = range(1000)\n",
    "print(sys.getsizeof(5)*len(l))"
   ]
  },
  {
   "cell_type": "code",
   "execution_count": 18,
   "id": "708dfb8f-c73d-4efc-820d-efc80798a3f8",
   "metadata": {},
   "outputs": [
    {
     "name": "stdout",
     "output_type": "stream",
     "text": [
      "4000\n"
     ]
    }
   ],
   "source": [
    "#Size of numpy array\n",
    "array = np.arange(1000)\n",
    "print(array.size*array.itemsize)"
   ]
  },
  {
   "cell_type": "code",
   "execution_count": 25,
   "id": "a71ce3d2-77b3-4e0b-929a-bb5857db8711",
   "metadata": {},
   "outputs": [],
   "source": [
    "#numpy array is fast and convinient compared to native python list\n",
    "SIZE = 1000000"
   ]
  },
  {
   "cell_type": "code",
   "execution_count": 26,
   "id": "d9f8d977-0a66-4d7d-a251-4fad9ff05a44",
   "metadata": {},
   "outputs": [],
   "source": [
    "l1 = range(SIZE)\n",
    "l2 = range(SIZE)"
   ]
  },
  {
   "cell_type": "code",
   "execution_count": 27,
   "id": "6b5c14fe-5700-4769-9507-7d3557b9f30b",
   "metadata": {},
   "outputs": [],
   "source": [
    "a1 = np.arange(SIZE)\n",
    "a2 = np.arange(SIZE)"
   ]
  },
  {
   "cell_type": "code",
   "execution_count": 28,
   "id": "b8146841-dc25-4a41-a3a7-601f2febe946",
   "metadata": {},
   "outputs": [
    {
     "name": "stdout",
     "output_type": "stream",
     "text": [
      "Python list took:  112.9918098449707\n"
     ]
    }
   ],
   "source": [
    "#Python list\n",
    "start = time.time()\n",
    "result = [(x+y) for x,y in zip(l1,l2)]\n",
    "print(\"Python list took: \",(time.time() - start) * 1000)\n"
   ]
  },
  {
   "cell_type": "code",
   "execution_count": 29,
   "id": "43e73424-e546-4c84-8345-a71c2bdaf3d4",
   "metadata": {},
   "outputs": [
    {
     "name": "stdout",
     "output_type": "stream",
     "text": [
      "Numpy took:  14.999866485595703\n"
     ]
    }
   ],
   "source": [
    "#numpy array\n",
    "start = time.time()\n",
    "result = a1 + a2\n",
    "print(\"Numpy took: \", (time.time()-start) * 1000)"
   ]
  },
  {
   "cell_type": "code",
   "execution_count": null,
   "id": "27da5884-14ad-4616-80f0-cbbf18548102",
   "metadata": {},
   "outputs": [],
   "source": []
  }
 ],
 "metadata": {
  "kernelspec": {
   "display_name": "Python 3 (ipykernel)",
   "language": "python",
   "name": "python3"
  },
  "language_info": {
   "codemirror_mode": {
    "name": "ipython",
    "version": 3
   },
   "file_extension": ".py",
   "mimetype": "text/x-python",
   "name": "python",
   "nbconvert_exporter": "python",
   "pygments_lexer": "ipython3",
   "version": "3.11.5"
  }
 },
 "nbformat": 4,
 "nbformat_minor": 5
}
