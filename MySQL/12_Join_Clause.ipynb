{
 "cells": [
  {
   "cell_type": "code",
   "execution_count": 2,
   "metadata": {},
   "outputs": [],
   "source": [
    "import mysql.connector\n",
    "\n",
    "\n",
    "mydb = mysql.connector.connect(host=\"localhost\", \n",
    "                               user=\"root\", \n",
    "                               password=\"password\",\n",
    "                               database=\"pysql\")\n",
    "\n",
    "cursor = mydb.cursor()"
   ]
  },
  {
   "cell_type": "markdown",
   "metadata": {},
   "source": [
    "# Users Table"
   ]
  },
  {
   "cell_type": "code",
   "execution_count": 3,
   "metadata": {},
   "outputs": [
    {
     "name": "stdout",
     "output_type": "stream",
     "text": [
      "(1, 'John', 154)\n",
      "(2, 'Peter', 154)\n",
      "(3, 'Amy', 155)\n",
      "(4, 'Hannah', None)\n",
      "(5, 'Michael', None)\n"
     ]
    }
   ],
   "source": [
    "cursor = mydb.cursor()\n",
    "\n",
    "cursor.execute(\"SELECT * FROM users\")\n",
    "\n",
    "result = cursor.fetchall()\n",
    "\n",
    "for row in result:\n",
    "    print(row)"
   ]
  },
  {
   "cell_type": "markdown",
   "metadata": {},
   "source": [
    "# Products Table"
   ]
  },
  {
   "cell_type": "code",
   "execution_count": 4,
   "metadata": {},
   "outputs": [
    {
     "name": "stdout",
     "output_type": "stream",
     "text": [
      "(154, 'Chocolate Heaven')\n",
      "(155, 'Tasty Lemons')\n",
      "(156, 'Vanilla Dreams')\n"
     ]
    }
   ],
   "source": [
    "cursor = mydb.cursor()\n",
    "\n",
    "cursor.execute(\"SELECT * FROM products\")\n",
    "\n",
    "result = cursor.fetchall()\n",
    "\n",
    "for row in result:\n",
    "    print(row)"
   ]
  },
  {
   "cell_type": "markdown",
   "metadata": {},
   "source": [
    "# Inner Join"
   ]
  },
  {
   "cell_type": "code",
   "execution_count": 6,
   "metadata": {},
   "outputs": [
    {
     "name": "stdout",
     "output_type": "stream",
     "text": [
      "(1, 'John', 154, 154, 'Chocolate Heaven')\n",
      "(2, 'Peter', 154, 154, 'Chocolate Heaven')\n",
      "(3, 'Amy', 155, 155, 'Tasty Lemons')\n"
     ]
    }
   ],
   "source": [
    "sql = \"SELECT * FROM users INNER JOIN products ON users.fav=products.id\"\n",
    "\n",
    "cursor.execute(sql)\n",
    "\n",
    "result = cursor.fetchall()\n",
    "\n",
    "for row in result:\n",
    "    print(row)"
   ]
  },
  {
   "cell_type": "markdown",
   "metadata": {},
   "source": [
    "# Left Join"
   ]
  },
  {
   "cell_type": "code",
   "execution_count": 8,
   "metadata": {},
   "outputs": [
    {
     "name": "stdout",
     "output_type": "stream",
     "text": [
      "(1, 'John', 154, 154, 'Chocolate Heaven')\n",
      "(2, 'Peter', 154, 154, 'Chocolate Heaven')\n",
      "(3, 'Amy', 155, 155, 'Tasty Lemons')\n",
      "(4, 'Hannah', None, None, None)\n",
      "(5, 'Michael', None, None, None)\n"
     ]
    }
   ],
   "source": [
    "sql = \"SELECT * FROM users LEFT JOIN products ON users.fav=products.id\"\n",
    "\n",
    "cursor.execute(sql)\n",
    "\n",
    "result = cursor.fetchall()\n",
    "\n",
    "for row in result:\n",
    "    print(row)"
   ]
  },
  {
   "cell_type": "markdown",
   "metadata": {},
   "source": [
    "# Right Join"
   ]
  },
  {
   "cell_type": "code",
   "execution_count": 7,
   "metadata": {},
   "outputs": [
    {
     "name": "stdout",
     "output_type": "stream",
     "text": [
      "(2, 'Peter', 154, 154, 'Chocolate Heaven')\n",
      "(1, 'John', 154, 154, 'Chocolate Heaven')\n",
      "(3, 'Amy', 155, 155, 'Tasty Lemons')\n",
      "(None, None, None, 156, 'Vanilla Dreams')\n"
     ]
    }
   ],
   "source": [
    "sql = \"SELECT * FROM users RIGHT JOIN products ON users.fav=products.id\"\n",
    "\n",
    "cursor.execute(sql)\n",
    "\n",
    "result = cursor.fetchall()\n",
    "\n",
    "for row in result:\n",
    "    print(row)"
   ]
  }
 ],
 "metadata": {
  "kernelspec": {
   "display_name": "Python 3",
   "language": "python",
   "name": "python3"
  },
  "language_info": {
   "codemirror_mode": {
    "name": "ipython",
    "version": 3
   },
   "file_extension": ".py",
   "mimetype": "text/x-python",
   "name": "python",
   "nbconvert_exporter": "python",
   "pygments_lexer": "ipython3",
   "version": "3.11.5"
  }
 },
 "nbformat": 4,
 "nbformat_minor": 2
}
